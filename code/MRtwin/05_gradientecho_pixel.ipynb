{
 "cells": [
  {
   "cell_type": "code",
   "execution_count": null,
   "metadata": {
    "collapsed": true
   },
   "outputs": [],
   "source": [
    "\"\"\"\n",
    "Created on Tue Jan 29 14:38:26 2019\n",
    "@author: mzaiss\n",
    "\n",
    "\"\"\"\n",
    "experiment_id = 'exA05_gradientecho_pixel'\n",
    "sequence_class = \"gre_dream\"\n",
    "experiment_description = \"\"\"\n",
    "y\n",
    "\"\"\"\n",
    "excercise = \"\"\"\n",
    "this file starts from solA04. we want now to have the same echo in every repetition\n",
    "A05.1. have the same rf_event, event times and gradmoms for every repetition, add recover time in last action as in A03\n",
    "A05.2. what is the recover time needed to have same echo amplitudes? is there a general rule for this? \n",
    "A05.3. alter the position of the pixel in the image in line 110. what do you observe?\n",
    "A05.4. set a second pixel (activate line 111). What do you observe?\n",
    "A05.5. try [8,:,:] and [:,8,:] in line 110. what do you observe?\n",
    "A05.6. instead of x gradient use a y gradient moment gradmom[:,:,1]\n",
    "\"\"\""
   ]
  },
  {
   "cell_type": "code",
   "execution_count": null,
   "outputs": [],
   "source": [
    "import os, sys\n",
    "import numpy as np\n",
    "import scipy\n",
    "import scipy.io\n",
    "from  scipy import ndimage\n",
    "import torch\n",
    "import cv2\n",
    "import matplotlib.pyplot as plt\n",
    "from torch import optim\n",
    "import core.spins\n",
    "import core.scanner\n",
    "import core.nnreco\n",
    "import core.target_seq_holder\n",
    "import warnings\n",
    "import matplotlib.cbook\n",
    "warnings.filterwarnings(\"ignore\",category=matplotlib.cbook.mplDeprecation)\n",
    "\n",
    "from importlib import reload\n",
    "reload(core.scanner)\n",
    "\n",
    "double_precision = False\n",
    "do_scanner_query = False\n",
    "\n",
    "use_gpu = 1\n",
    "gpu_dev = 0\n",
    "\n",
    "if sys.platform != 'linux':\n",
    "    use_gpu = 0\n",
    "    gpu_dev = 0\n",
    "print(experiment_id)    \n",
    "print('use_gpu = ' +str(use_gpu)) \n",
    "\n",
    "# NRMSE error function\n",
    "def e(gt,x):\n",
    "    return 100*np.linalg.norm((gt-x).ravel())/np.linalg.norm(gt.ravel())\n",
    "    \n",
    "# torch to numpy\n",
    "def tonumpy(x):\n",
    "    return x.detach().cpu().numpy()\n",
    "\n",
    "# get magnitude image\n",
    "def magimg(x):\n",
    "  return np.sqrt(np.sum(np.abs(x)**2,2))\n",
    "\n",
    "def magimg_torch(x):\n",
    "  return torch.sqrt(torch.sum(torch.abs(x)**2,1))\n",
    "\n",
    "def tomag_torch(x):\n",
    "    return torch.sqrt(torch.sum(torch.abs(x)**2,-1))\n",
    "\n",
    "# device setter\n",
    "def setdevice(x):\n",
    "    if double_precision:\n",
    "        x = x.double()\n",
    "    else:\n",
    "        x = x.float()\n",
    "    if use_gpu:\n",
    "        x = x.cuda(gpu_dev)    \n",
    "    return x "
   ],
   "metadata": {
    "collapsed": false,
    "pycharm": {
     "name": "#%%\n"
    }
   }
  },
  {
   "cell_type": "code",
   "execution_count": null,
   "outputs": [],
   "source": [
    "#############################################################################\n",
    "## S0: define image and simulation settings::: #####################################\n",
    "sz = np.array([12,12])                      # image size\n",
    "extraMeas = 1                               # number of measurmenets/ separate scans\n",
    "NRep = extraMeas*sz[1]                      # number of total repetitions\n",
    "NRep = 4                                  # number of total repetitions\n",
    "szread=128\n",
    "NEvnt = szread + 5 + 2                               # number of events F/R/P\n",
    "NSpins = 26**2                               # number of spin sims in each voxel\n",
    "NCoils = 1                                  # number of receive coil elements\n",
    "noise_std = 0*1e-3                          # additive Gaussian noise std\n",
    "kill_transverse = False                     #\n",
    "import time; today_datestr = time.strftime('%y%m%d')\n",
    "NVox = sz[0]*szread"
   ],
   "metadata": {
    "collapsed": false,
    "pycharm": {
     "name": "#%%\n"
    }
   }
  },
  {
   "cell_type": "code",
   "execution_count": null,
   "outputs": [],
   "source": [
    "#############################################################################\n",
    "## S1: Init spin system and phantom::: #####################################\n",
    "# initialize scanned object\n",
    "spins = core.spins.SpinSystem(sz,NVox,NSpins,use_gpu+gpu_dev,double_precision=double_precision)\n",
    "\n",
    "cutoff = 1e-12\n",
    "#real_phantom = scipy.io.loadmat('../../data/phantom2D.mat')['phantom_2D']\n",
    "#real_phantom = scipy.io.loadmat('../../data/numerical_brain_cropped.mat')['cropped_brain']\n",
    "\n",
    "real_phantom_resized = np.zeros((sz[0],sz[1],5), dtype=np.float32)\n",
    "real_phantom_resized[10,6,:]=np.array([1, 1, 0.1, 0,1])\n",
    "#real_phantom_resized[9,9,:]=np.array([0.25, 1, 0.1, 0,1])\n",
    "    \n",
    "real_phantom_resized[:,:,1] *= 1 # Tweak T1\n",
    "real_phantom_resized[:,:,2] *= 1 # Tweak T2\n",
    "real_phantom_resized[:,:,3] += 0 # Tweak dB0\n",
    "real_phantom_resized[:,:,4] *= 1 # Tweak rB1\n",
    "\n",
    "spins.set_system(real_phantom_resized)\n",
    "\n",
    "if 1:\n",
    "    plt.figure(\"\"\"phantom\"\"\")\n",
    "    param=['PD','T1','T2','dB0','rB1']\n",
    "    for i in range(5):\n",
    "        plt.subplot(151+i), plt.title(param[i])\n",
    "        ax=plt.imshow(real_phantom_resized[:,:,i], interpolation='none')\n",
    "        fig = plt.gcf()\n",
    "        fig.colorbar(ax) \n",
    "    fig.set_size_inches(18, 3)\n",
    "    plt.show()\n",
    "   \n",
    "#begin nspins with R2* = 1/T2*\n",
    "R2star = 30.0\n",
    "omega = np.linspace(0,1,NSpins) - 0.5   # cutoff might bee needed for opt.\n",
    "omega = np.expand_dims(omega[:],1).repeat(NVox, axis=1)\n",
    "omega*=0.99 # cutoff large freqs\n",
    "omega = R2star * np.tan ( np.pi  * omega)\n",
    "spins.omega = torch.from_numpy(omega.reshape([NSpins,NVox])).float()\n",
    "spins.omega = setdevice(spins.omega)\n",
    "## end of S1: Init spin system and phantom ::: #####################################"
   ],
   "metadata": {
    "collapsed": false,
    "pycharm": {
     "name": "#%%\n"
    }
   }
  },
  {
   "cell_type": "code",
   "execution_count": null,
   "outputs": [],
   "source": [
    "#############################################################################\n",
    "## S2: Init scanner system ::: #####################################\n",
    "scanner = core.scanner.Scanner_fast(sz,NVox,NSpins,NRep,NEvnt,NCoils,noise_std,use_gpu+gpu_dev,double_precision=double_precision)\n",
    "\n",
    "B1plus = torch.zeros((scanner.NCoils,1,scanner.NVox,1,1), dtype=torch.float32)\n",
    "B1plus[:,0,:,0,0] = torch.from_numpy(real_phantom_resized[:,:,4].reshape([scanner.NCoils, scanner.NVox]))\n",
    "B1plus[B1plus == 0] = 1    # set b1+ to one, where we dont have phantom measurements\n",
    "B1plus[:] = 1\n",
    "scanner.B1plus = setdevice(B1plus)"
   ],
   "metadata": {
    "collapsed": false,
    "pycharm": {
     "name": "#%%\n"
    }
   }
  },
  {
   "cell_type": "code",
   "execution_count": null,
   "outputs": [],
   "source": [
    "## S3: MR sequence definition ::: #####################################\n",
    "# begin sequence definition\n",
    "# allow for extra events (pulses, relaxation and spoiling) in the first five and last two events (after last readout event)\n",
    "adc_mask = torch.from_numpy(np.ones((NEvnt,1))).float()\n",
    "adc_mask[:5]  = 0\n",
    "adc_mask[-2:] = 0\n",
    "scanner.set_adc_mask(adc_mask=setdevice(adc_mask))\n",
    "\n",
    "# RF events: rf_event and phases\n",
    "rf_event = torch.zeros((NEvnt,NRep,2), dtype=torch.float32)\n",
    "rf_event[3,0,0] = 90*np.pi/180  # 90deg excitation in first rep\n",
    "rf_event = setdevice(rf_event)\n",
    "scanner.init_flip_tensor_holder()    \n",
    "scanner.set_flip_tensor_withB1plus(rf_event)\n",
    "# rotate ADC according to excitation phase\n",
    "rfsign = ((rf_event[3,:,0]) < 0).float()\n",
    "scanner.set_ADC_rot_tensor(-rf_event[3,0,1] + np.pi/2 + np.pi*rfsign) #GRE/FID specific\n",
    "\n",
    "# event timing vector \n",
    "event_time = torch.from_numpy(0.08*1e-3*np.ones((NEvnt,NRep))).float()\n",
    "event_time[:,0] =  0.08*1e-3\n",
    "event_time = setdevice(event_time)\n",
    "\n",
    "# gradient-driver precession\n",
    "# Cartesian encoding\n",
    "gradm_event = torch.zeros((NEvnt,NRep,2), dtype=torch.float32)\n",
    "gradm_event[4,0,0] = -0.5*szread\n",
    "gradm_event[5:-2,0,0] = 1\n",
    "gradm_event[5:-2,1::2,0] = -1 \n",
    "gradm_event[5:-2,2::2,0] =  1\n",
    "gradm_event = setdevice(gradm_event)\n",
    "\n",
    "scanner.init_gradient_tensor_holder()\n",
    "scanner.set_gradient_precession_tensor(gradm_event,sequence_class)  # refocusing=False for GRE/FID, adjust for higher echoes\n",
    "## end S3: MR sequence definition ::: #####################################\n",
    "\n",
    "\n",
    "#############################################################################\n",
    "## S4: MR simulation forward process ::: #####################################\n",
    "scanner.init_signal()\n",
    "scanner.forward(spins, event_time)\n",
    "\n",
    "\n",
    "# sequence and signal plotting\n",
    "targetSeq = core.target_seq_holder.TargetSequenceHolder(rf_event,event_time,gradm_event,scanner,spins,scanner.signal)\n",
    "#targetSeq.print_seq_pic(True,plotsize=[12,9])\n",
    "#targetSeq.print_seq(plotsize=[12,9])\n",
    "targetSeq.print_seq(plotsize=[12,9], time_axis=1)\n",
    "                    \n",
    "            "
   ],
   "metadata": {
    "collapsed": false,
    "pycharm": {
     "name": "#%% ###########################################################################\n"
    }
   }
  }
 ],
 "metadata": {
  "kernelspec": {
   "display_name": "Python 3",
   "language": "python",
   "name": "python3"
  },
  "language_info": {
   "codemirror_mode": {
    "name": "ipython",
    "version": 2
   },
   "file_extension": ".py",
   "mimetype": "text/x-python",
   "name": "python",
   "nbconvert_exporter": "python",
   "pygments_lexer": "ipython2",
   "version": "2.7.6"
  },
  "pycharm": {
   "stem_cell": {
    "cell_type": "raw",
    "source": [],
    "metadata": {
     "collapsed": false
    }
   }
  }
 },
 "nbformat": 4,
 "nbformat_minor": 0
}